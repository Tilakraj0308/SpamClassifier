{
 "cells": [
  {
   "cell_type": "markdown",
   "id": "e6ac6d75",
   "metadata": {},
   "source": [
    "# Spam Classifier"
   ]
  },
  {
   "cell_type": "markdown",
   "id": "1b06caa6",
   "metadata": {},
   "source": [
    "### Importation"
   ]
  },
  {
   "cell_type": "code",
   "execution_count": 1,
   "id": "29e2f004",
   "metadata": {},
   "outputs": [
    {
     "name": "stderr",
     "output_type": "stream",
     "text": [
      "[nltk_data] Downloading package punkt to\n",
      "[nltk_data]     C:\\Users\\tilak\\AppData\\Roaming\\nltk_data...\n",
      "[nltk_data]   Package punkt is already up-to-date!\n"
     ]
    }
   ],
   "source": [
    "import csv\n",
    "import numpy as np\n",
    "from nltk.tokenize import word_tokenize\n",
    "from nltk.stem import PorterStemmer\n",
    "from nltk.probability import FreqDist\n",
    "import nltk\n",
    "nltk.download('punkt')\n",
    "from matplotlib import pyplot as plt\n",
    "from sklearn.model_selection import train_test_split\n",
    "from sklearn.linear_model import LogisticRegression\n",
    "from sklearn.metrics import f1_score"
   ]
  },
  {
   "cell_type": "markdown",
   "id": "c4648689",
   "metadata": {},
   "source": [
    "### Reading file"
   ]
  },
  {
   "cell_type": "code",
   "execution_count": 20,
   "id": "a148a7cb",
   "metadata": {},
   "outputs": [
    {
     "name": "stdout",
     "output_type": "stream",
     "text": [
      "['v1', 'v2', '', '', '']\n",
      "[['ham', 'Go until jurong point, crazy.. Available only in bugis n great world la e buffet... Cine there got amore wat...', '', '', ''], ['ham', 'Ok lar... Joking wif u oni...', '', '', ''], ['spam', \"Free entry in 2 a wkly comp to win FA Cup final tkts 21st May 2005. Text FA to 87121 to receive entry question(std txt rate)T&C's apply 08452810075over18's\", '', '', ''], ['ham', 'U dun say so early hor... U c already then say...', '', '', ''], ['ham', \"Nah I don't think he goes to usf, he lives around here though\", '', '', ''], ['spam', \"FreeMsg Hey there darling it's been 3 week's now and no word back! I'd like some fun you up for it still? Tb ok! XxX std chgs to send, å£1.50 to rcv\", '', '', ''], ['ham', 'Even my brother is not like to speak with me. They treat me like aids patent.', '', '', ''], ['ham', \"As per your request 'Melle Melle (Oru Minnaminunginte Nurungu Vettam)' has been set as your callertune for all Callers. Press *9 to copy your friends Callertune\", '', '', ''], ['spam', 'WINNER!! As a valued network customer you have been selected to receivea å£900 prize reward! To claim call 09061701461. Claim code KL341. Valid 12 hours only.', '', '', ''], ['spam', 'Had your mobile 11 months or more? U R entitled to Update to the latest colour mobiles with camera for Free! Call The Mobile Update Co FREE on 08002986030', '', '', '']]\n"
     ]
    }
   ],
   "source": [
    "file = open(\"spam.csv\")\n",
    "csvreader = csv.reader(file)\n",
    "header = next(csvreader)\n",
    "print(header)\n",
    "rows = []\n",
    "for row in csvreader:\n",
    "    rows.append(row)\n",
    "# Printing first 10 examples.\n",
    "print(rows[: 10])\n",
    "file.close()"
   ]
  },
  {
   "cell_type": "markdown",
   "id": "9a5f9736",
   "metadata": {},
   "source": [
    "### Tokenization and stemming"
   ]
  },
  {
   "cell_type": "code",
   "execution_count": 4,
   "id": "89cd8bb7",
   "metadata": {},
   "outputs": [
    {
     "data": {
      "text/plain": [
       "[('.', 4865),\n",
       " ('i', 2900),\n",
       " ('to', 2241),\n",
       " ('you', 2228),\n",
       " (',', 1871),\n",
       " ('?', 1541),\n",
       " ('a', 1424),\n",
       " ('!', 1381),\n",
       " ('the', 1324),\n",
       " ('u', 1133),\n",
       " ('...', 1131),\n",
       " ('and', 977),\n",
       " ('it', 951),\n",
       " ('&', 916),\n",
       " ('is', 898),\n",
       " ('in', 887),\n",
       " ('me', 804),\n",
       " (';', 764),\n",
       " ('my', 759),\n",
       " (':', 717),\n",
       " ('for', 703),\n",
       " ('your', 703),\n",
       " ('..', 681),\n",
       " ('call', 656),\n",
       " ('have', 638),\n",
       " ('do', 632),\n",
       " ('of', 619),\n",
       " ('that', 613),\n",
       " ('on', 536),\n",
       " (')', 494)]"
      ]
     },
     "execution_count": 4,
     "metadata": {},
     "output_type": "execute_result"
    }
   ],
   "source": [
    "fdist = FreqDist()\n",
    "pst = PorterStemmer()\n",
    "for i in range(len(rows)):\n",
    "    tokens = word_tokenize(rows[i][1])\n",
    "    for word in tokens:\n",
    "        fdist[pst.stem(word.lower())] += 1\n",
    "# Printing 30 most common words in the email body.\n",
    "fdist.most_common(30)"
   ]
  },
  {
   "cell_type": "markdown",
   "id": "54dac726",
   "metadata": {},
   "source": [
    "### Selecting the most common words"
   ]
  },
  {
   "cell_type": "code",
   "execution_count": 5,
   "id": "9cc043c7",
   "metadata": {},
   "outputs": [
    {
     "name": "stdout",
     "output_type": "stream",
     "text": [
      "['.', 'i', 'to', 'you', ',', '?', 'a', '!', 'the', 'u', '...', 'and', 'it', '&', 'is', 'in', 'me', ';', 'my', ':', 'for', 'your', '..', 'call', 'have', 'do', 'of', 'that', 'on', ')', \"'s\", 'are', 'now', '2', 'so', 'go', 'get', 'not', 'but', 'be', 'or', 'can', 'at', 'we', \"'m\", 'will', 'if', 'ur', 'with', 'just', \"n't\", 'no', 'thi', 'how', 'gt', 'lt', '*', 'up', 'what', 'come', 'when', '4', \"''\", '#', 'from', 'free', 'know', 'all', 'out', 'ok', 'like', 'love', 'got', 'time', 'wa', 'want', 'good', 'day', 'then', \"'ll\", 'there', '-', 'he', 'text', 'am', 'onli', 'send', 'hi', 'need', 'one', 'txt', 'as', 'today', 'see', 'by', 'take', 'about', 'think', 'did', 'home']\n"
     ]
    }
   ],
   "source": [
    "most_common = []\n",
    "for (i,j) in fdist.most_common(100):\n",
    "    most_common.append(i)\n",
    "print(most_common)"
   ]
  },
  {
   "cell_type": "markdown",
   "id": "d6e9b3c3",
   "metadata": {},
   "source": [
    "### features scaling"
   ]
  },
  {
   "cell_type": "code",
   "execution_count": 6,
   "id": "5df4677b",
   "metadata": {},
   "outputs": [],
   "source": [
    "def scaling(st):\n",
    "    tokens = word_tokenize(st)\n",
    "    stemmed = []\n",
    "    for token in tokens:\n",
    "        stemmed.append(pst.stem(token.lower()))\n",
    "    return stemmed"
   ]
  },
  {
   "cell_type": "code",
   "execution_count": 19,
   "id": "a098542f",
   "metadata": {},
   "outputs": [
    {
     "name": "stdout",
     "output_type": "stream",
     "text": [
      "[['go', 'until', 'jurong', 'point', ',', 'crazi', '..', 'avail', 'onli', 'in', 'bugi', 'n', 'great', 'world', 'la', 'e', 'buffet', '...', 'cine', 'there', 'got', 'amor', 'wat', '...'], ['ok', 'lar', '...', 'joke', 'wif', 'u', 'oni', '...'], ['free', 'entri', 'in', '2', 'a', 'wkli', 'comp', 'to', 'win', 'fa', 'cup', 'final', 'tkt', '21st', 'may', '2005', '.', 'text', 'fa', 'to', '87121', 'to', 'receiv', 'entri', 'question', '(', 'std', 'txt', 'rate', ')', 't', '&', 'c', \"'s\", 'appli', '08452810075over18', \"'s\"], ['u', 'dun', 'say', 'so', 'earli', 'hor', '...', 'u', 'c', 'alreadi', 'then', 'say', '...'], ['nah', 'i', 'do', \"n't\", 'think', 'he', 'goe', 'to', 'usf', ',', 'he', 'live', 'around', 'here', 'though'], ['freemsg', 'hey', 'there', 'darl', 'it', \"'s\", 'been', '3', 'week', \"'s\", 'now', 'and', 'no', 'word', 'back', '!', 'i', \"'d\", 'like', 'some', 'fun', 'you', 'up', 'for', 'it', 'still', '?', 'tb', 'ok', '!', 'xxx', 'std', 'chg', 'to', 'send', ',', 'å£1.50', 'to', 'rcv'], ['even', 'my', 'brother', 'is', 'not', 'like', 'to', 'speak', 'with', 'me', '.', 'they', 'treat', 'me', 'like', 'aid', 'patent', '.'], ['as', 'per', 'your', 'request', \"'mell\", 'mell', '(', 'oru', 'minnaminungint', 'nurungu', 'vettam', ')', \"'\", 'ha', 'been', 'set', 'as', 'your', 'callertun', 'for', 'all', 'caller', '.', 'press', '*', '9', 'to', 'copi', 'your', 'friend', 'callertun'], ['winner', '!', '!', 'as', 'a', 'valu', 'network', 'custom', 'you', 'have', 'been', 'select', 'to', 'receivea', 'å£900', 'prize', 'reward', '!', 'to', 'claim', 'call', '09061701461', '.', 'claim', 'code', 'kl341', '.', 'valid', '12', 'hour', 'onli', '.'], ['had', 'your', 'mobil', '11', 'month', 'or', 'more', '?', 'u', 'r', 'entitl', 'to', 'updat', 'to', 'the', 'latest', 'colour', 'mobil', 'with', 'camera', 'for', 'free', '!', 'call', 'the', 'mobil', 'updat', 'co', 'free', 'on', '08002986030']]\n"
     ]
    }
   ],
   "source": [
    "temprow = []\n",
    "for i in range(len(rows)):\n",
    "    temprow.append(scaling(rows[i][1]))\n",
    "# Printing first 10 examples tokenized.\n",
    "print(temprow[: 10])"
   ]
  },
  {
   "cell_type": "markdown",
   "id": "9a311a57",
   "metadata": {},
   "source": [
    "### Getting features"
   ]
  },
  {
   "cell_type": "code",
   "execution_count": 8,
   "id": "ec9f4148",
   "metadata": {},
   "outputs": [],
   "source": [
    "def getFeatures(arr , most_common):\n",
    "    fe = []\n",
    "    for word in most_common:\n",
    "        if word in arr:\n",
    "            fe.append(1)\n",
    "        else:\n",
    "            fe.append(0)\n",
    "    return fe"
   ]
  },
  {
   "cell_type": "code",
   "execution_count": 17,
   "id": "2f7cb46b",
   "metadata": {},
   "outputs": [
    {
     "name": "stdout",
     "output_type": "stream",
     "text": [
      "[[0, 0, 0, 0, 1, 0, 0, 0, 0, 0, 1, 0, 0, 0, 0, 1, 0, 0, 0, 0, 0, 0, 1, 0, 0, 0, 0, 0, 0, 0, 0, 0, 0, 0, 0, 1, 0, 0, 0, 0, 0, 0, 0, 0, 0, 0, 0, 0, 0, 0, 0, 0, 0, 0, 0, 0, 0, 0, 0, 0, 0, 0, 0, 0, 0, 0, 0, 0, 0, 0, 0, 0, 1, 0, 0, 0, 0, 0, 0, 0, 1, 0, 0, 0, 0, 1, 0, 0, 0, 0, 0, 0, 0, 0, 0, 0, 0, 0, 0, 0], [0, 0, 0, 0, 0, 0, 0, 0, 0, 1, 1, 0, 0, 0, 0, 0, 0, 0, 0, 0, 0, 0, 0, 0, 0, 0, 0, 0, 0, 0, 0, 0, 0, 0, 0, 0, 0, 0, 0, 0, 0, 0, 0, 0, 0, 0, 0, 0, 0, 0, 0, 0, 0, 0, 0, 0, 0, 0, 0, 0, 0, 0, 0, 0, 0, 0, 0, 0, 0, 1, 0, 0, 0, 0, 0, 0, 0, 0, 0, 0, 0, 0, 0, 0, 0, 0, 0, 0, 0, 0, 0, 0, 0, 0, 0, 0, 0, 0, 0, 0], [1, 0, 1, 0, 0, 0, 1, 0, 0, 0, 0, 0, 0, 1, 0, 1, 0, 0, 0, 0, 0, 0, 0, 0, 0, 0, 0, 0, 0, 1, 1, 0, 0, 1, 0, 0, 0, 0, 0, 0, 0, 0, 0, 0, 0, 0, 0, 0, 0, 0, 0, 0, 0, 0, 0, 0, 0, 0, 0, 0, 0, 0, 0, 0, 0, 1, 0, 0, 0, 0, 0, 0, 0, 0, 0, 0, 0, 0, 0, 0, 0, 0, 0, 1, 0, 0, 0, 0, 0, 0, 1, 0, 0, 0, 0, 0, 0, 0, 0, 0], [0, 0, 0, 0, 0, 0, 0, 0, 0, 1, 1, 0, 0, 0, 0, 0, 0, 0, 0, 0, 0, 0, 0, 0, 0, 0, 0, 0, 0, 0, 0, 0, 0, 0, 1, 0, 0, 0, 0, 0, 0, 0, 0, 0, 0, 0, 0, 0, 0, 0, 0, 0, 0, 0, 0, 0, 0, 0, 0, 0, 0, 0, 0, 0, 0, 0, 0, 0, 0, 0, 0, 0, 0, 0, 0, 0, 0, 0, 1, 0, 0, 0, 0, 0, 0, 0, 0, 0, 0, 0, 0, 0, 0, 0, 0, 0, 0, 0, 0, 0], [0, 1, 1, 0, 1, 0, 0, 0, 0, 0, 0, 0, 0, 0, 0, 0, 0, 0, 0, 0, 0, 0, 0, 0, 0, 1, 0, 0, 0, 0, 0, 0, 0, 0, 0, 0, 0, 0, 0, 0, 0, 0, 0, 0, 0, 0, 0, 0, 0, 0, 1, 0, 0, 0, 0, 0, 0, 0, 0, 0, 0, 0, 0, 0, 0, 0, 0, 0, 0, 0, 0, 0, 0, 0, 0, 0, 0, 0, 0, 0, 0, 0, 1, 0, 0, 0, 0, 0, 0, 0, 0, 0, 0, 0, 0, 0, 0, 1, 0, 0], [0, 1, 1, 1, 1, 1, 0, 1, 0, 0, 0, 1, 1, 0, 0, 0, 0, 0, 0, 0, 1, 0, 0, 0, 0, 0, 0, 0, 0, 0, 1, 0, 1, 0, 0, 0, 0, 0, 0, 0, 0, 0, 0, 0, 0, 0, 0, 0, 0, 0, 0, 1, 0, 0, 0, 0, 0, 1, 0, 0, 0, 0, 0, 0, 0, 0, 0, 0, 0, 1, 1, 0, 0, 0, 0, 0, 0, 0, 0, 0, 1, 0, 0, 0, 0, 0, 1, 0, 0, 0, 0, 0, 0, 0, 0, 0, 0, 0, 0, 0], [1, 0, 1, 0, 0, 0, 0, 0, 0, 0, 0, 0, 0, 0, 1, 0, 1, 0, 1, 0, 0, 0, 0, 0, 0, 0, 0, 0, 0, 0, 0, 0, 0, 0, 0, 0, 0, 1, 0, 0, 0, 0, 0, 0, 0, 0, 0, 0, 1, 0, 0, 0, 0, 0, 0, 0, 0, 0, 0, 0, 0, 0, 0, 0, 0, 0, 0, 0, 0, 0, 1, 0, 0, 0, 0, 0, 0, 0, 0, 0, 0, 0, 0, 0, 0, 0, 0, 0, 0, 0, 0, 0, 0, 0, 0, 0, 0, 0, 0, 0], [1, 0, 1, 0, 0, 0, 0, 0, 0, 0, 0, 0, 0, 0, 0, 0, 0, 0, 0, 0, 1, 1, 0, 0, 0, 0, 0, 0, 0, 1, 0, 0, 0, 0, 0, 0, 0, 0, 0, 0, 0, 0, 0, 0, 0, 0, 0, 0, 0, 0, 0, 0, 0, 0, 0, 0, 1, 0, 0, 0, 0, 0, 0, 0, 0, 0, 0, 1, 0, 0, 0, 0, 0, 0, 0, 0, 0, 0, 0, 0, 0, 0, 0, 0, 0, 0, 0, 0, 0, 0, 0, 1, 0, 0, 0, 0, 0, 0, 0, 0], [1, 0, 1, 1, 0, 0, 1, 1, 0, 0, 0, 0, 0, 0, 0, 0, 0, 0, 0, 0, 0, 0, 0, 1, 1, 0, 0, 0, 0, 0, 0, 0, 0, 0, 0, 0, 0, 0, 0, 0, 0, 0, 0, 0, 0, 0, 0, 0, 0, 0, 0, 0, 0, 0, 0, 0, 0, 0, 0, 0, 0, 0, 0, 0, 0, 0, 0, 0, 0, 0, 0, 0, 0, 0, 0, 0, 0, 0, 0, 0, 0, 0, 0, 0, 0, 1, 0, 0, 0, 0, 0, 1, 0, 0, 0, 0, 0, 0, 0, 0], [0, 0, 1, 0, 0, 1, 0, 1, 1, 1, 0, 0, 0, 0, 0, 0, 0, 0, 0, 0, 1, 1, 0, 1, 0, 0, 0, 0, 1, 0, 0, 0, 0, 0, 0, 0, 0, 0, 0, 0, 1, 0, 0, 0, 0, 0, 0, 0, 1, 0, 0, 0, 0, 0, 0, 0, 0, 0, 0, 0, 0, 0, 0, 0, 0, 1, 0, 0, 0, 0, 0, 0, 0, 0, 0, 0, 0, 0, 0, 0, 0, 0, 0, 0, 0, 0, 0, 0, 0, 0, 0, 0, 0, 0, 0, 0, 0, 0, 0, 0]]\n"
     ]
    }
   ],
   "source": [
    "X = []\n",
    "for i in range(len(temprow)):\n",
    "    a = getFeatures(temprow[i] , most_common)\n",
    "    X.append(a)\n",
    "#Printing feature vectors of first 10 examples.\n",
    "print(X[: 10])"
   ]
  },
  {
   "cell_type": "markdown",
   "id": "87763494",
   "metadata": {},
   "source": [
    "### Getting target"
   ]
  },
  {
   "cell_type": "code",
   "execution_count": 11,
   "id": "fb4c16ab",
   "metadata": {},
   "outputs": [
    {
     "name": "stdout",
     "output_type": "stream",
     "text": [
      "[0, 0, 1, 0, 0, 1, 0, 0, 1, 1]\n"
     ]
    }
   ],
   "source": [
    "y = []\n",
    "for i in range(len(rows)):\n",
    "    if rows[i][0] == 'ham':\n",
    "        y.append(0)\n",
    "    else:\n",
    "        y.append(1)\n",
    "# Printing first 10 target example.\n",
    "print(y[: 10])\n"
   ]
  },
  {
   "cell_type": "markdown",
   "id": "84fe6cdd",
   "metadata": {},
   "source": [
    "### Splitting dataset into train and test"
   ]
  },
  {
   "cell_type": "code",
   "execution_count": 12,
   "id": "89d2bcd9",
   "metadata": {},
   "outputs": [
    {
     "name": "stdout",
     "output_type": "stream",
     "text": [
      "(4457, 100)\n",
      "(1115, 100)\n",
      "(4457,)\n",
      "(1115,)\n"
     ]
    }
   ],
   "source": [
    "X = np.array(X)\n",
    "y = np.array(y)\n",
    "X_train , X_test , y_train, y_test = train_test_split(X,y,test_size = 0.2)\n",
    "print(X_train.shape)\n",
    "print(X_test.shape)\n",
    "print(y_train.shape)\n",
    "print(y_test.shape)"
   ]
  },
  {
   "cell_type": "markdown",
   "id": "c0d42451",
   "metadata": {},
   "source": [
    "### Model"
   ]
  },
  {
   "cell_type": "markdown",
   "id": "8cf04352",
   "metadata": {},
   "source": [
    "#### Logistic Regression"
   ]
  },
  {
   "cell_type": "code",
   "execution_count": 13,
   "id": "68faece0",
   "metadata": {},
   "outputs": [
    {
     "data": {
      "text/plain": [
       "LogisticRegression()"
      ]
     },
     "execution_count": 13,
     "metadata": {},
     "output_type": "execute_result"
    }
   ],
   "source": [
    "clf = LogisticRegression()\n",
    "clf.fit(X_train , y_train)"
   ]
  },
  {
   "cell_type": "markdown",
   "id": "39fff88e",
   "metadata": {},
   "source": [
    "### Prediction"
   ]
  },
  {
   "cell_type": "code",
   "execution_count": 15,
   "id": "02ed6d17",
   "metadata": {},
   "outputs": [
    {
     "name": "stdout",
     "output_type": "stream",
     "text": [
      "Predicted:  [0 1 0 1 0 0 0 0 0 0 1 0 0 0 0 0 0 0 0 0 0 0 0 0 0 0 0 0 0 0 0 0 1 1 0 0 0\n",
      " 0 0 0 0 0 0 1 1 0 0 0 0 1]\n",
      "Real:  [0 1 0 1 0 0 1 0 0 0 1 0 0 0 0 0 0 0 0 0 0 0 0 0 0 0 0 0 0 0 0 0 1 1 0 0 0\n",
      " 0 0 0 0 0 0 1 1 0 0 0 0 1]\n"
     ]
    }
   ],
   "source": [
    "pred = clf.predict(X_test)\n",
    "# Checking first 50 predictions.\n",
    "print(\"Predicted: \" , pred[: 50])\n",
    "print(\"Real: \" , y_test[: 50])"
   ]
  },
  {
   "cell_type": "markdown",
   "id": "cb42c03b",
   "metadata": {},
   "source": [
    "### F1 score"
   ]
  },
  {
   "cell_type": "code",
   "execution_count": 16,
   "id": "5e8f5b11",
   "metadata": {},
   "outputs": [
    {
     "data": {
      "text/plain": [
       "0.9640356446116066"
      ]
     },
     "execution_count": 16,
     "metadata": {},
     "output_type": "execute_result"
    }
   ],
   "source": [
    "f1_score(y_test, pred, average='weighted')"
   ]
  },
  {
   "cell_type": "markdown",
   "id": "04ed17fa",
   "metadata": {},
   "source": [
    "### Taking input"
   ]
  },
  {
   "cell_type": "code",
   "execution_count": 81,
   "id": "33ee0408",
   "metadata": {},
   "outputs": [
    {
     "name": "stdout",
     "output_type": "stream",
     "text": [
      "Enter your Email body:  Can't read or see images?  View this email in a browser  \t https://campaign-image.com/zohocampaigns/133052000002457092_zc_v53_artboard_1.png Participate Now Dear MyPeers,  Today is Day 1 of the live sessions at The EnthusiasTech Summit 2022! Register yourself at tes.myways.ai If you have already registered, \"Enroll\" yourself in specific events Today's session are planned from 5pm to 8pm, Details are attached below. Please note that all sessions today will have the same Zoom link. Please join 10 mins prior to the event you are interested in! Or stay for the whole 3 hours, we would be happy to host you! Please find the detailed agenda below!\n"
     ]
    }
   ],
   "source": [
    "st = input(\"Enter your Email body: \")"
   ]
  },
  {
   "cell_type": "markdown",
   "id": "e738e97b",
   "metadata": {},
   "source": [
    "### Data Preprocessing"
   ]
  },
  {
   "cell_type": "code",
   "execution_count": 82,
   "id": "010e0449",
   "metadata": {},
   "outputs": [
    {
     "name": "stdout",
     "output_type": "stream",
     "text": [
      "[1, 0, 1, 1, 1, 1, 1, 1, 1, 0, 0, 0, 0, 0, 1, 1, 0, 0, 0, 1, 1, 0, 0, 0, 1, 0, 1, 1, 0, 0, 1, 1, 1, 0, 0, 0, 0, 0, 0, 1, 1, 0, 1, 1, 0, 1, 1, 0, 0, 0, 1, 0, 1, 0, 0, 0, 0, 0, 0, 0, 0, 0, 1, 0, 1, 0, 0, 1, 0, 0, 0, 0, 0, 0, 0, 0, 0, 1, 0, 0, 0, 0, 0, 0, 0, 0, 0, 0, 0, 0, 0, 0, 1, 1, 0, 0, 0, 0, 0, 0]\n"
     ]
    }
   ],
   "source": [
    "stemmed_st = scaling(st)\n",
    "x_in = getFeatures(stemmed_st, most_common)\n",
    "print(x_in)\n"
   ]
  },
  {
   "cell_type": "markdown",
   "id": "12bad07b",
   "metadata": {},
   "source": [
    "### Ham or Spam"
   ]
  },
  {
   "cell_type": "code",
   "execution_count": 83,
   "id": "20e53529",
   "metadata": {},
   "outputs": [
    {
     "name": "stdout",
     "output_type": "stream",
     "text": [
      "spam\n"
     ]
    }
   ],
   "source": [
    "predicted = clf.predict([x_in])\n",
    "if predicted == 0:\n",
    "    print(\"ham\")\n",
    "else:\n",
    "    print(\"spam\")"
   ]
  },
  {
   "cell_type": "code",
   "execution_count": null,
   "id": "b5861c59",
   "metadata": {},
   "outputs": [],
   "source": []
  }
 ],
 "metadata": {
  "kernelspec": {
   "display_name": "Python 3 (ipykernel)",
   "language": "python",
   "name": "python3"
  },
  "language_info": {
   "codemirror_mode": {
    "name": "ipython",
    "version": 3
   },
   "file_extension": ".py",
   "mimetype": "text/x-python",
   "name": "python",
   "nbconvert_exporter": "python",
   "pygments_lexer": "ipython3",
   "version": "3.9.7"
  }
 },
 "nbformat": 4,
 "nbformat_minor": 5
}
