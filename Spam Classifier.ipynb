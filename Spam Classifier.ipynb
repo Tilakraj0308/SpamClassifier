{
 "cells": [
  {
   "cell_type": "markdown",
   "id": "e6ac6d75",
   "metadata": {},
   "source": [
    "# Spam Classifier"
   ]
  },
  {
   "cell_type": "markdown",
   "id": "1b06caa6",
   "metadata": {},
   "source": [
    "### Importation"
   ]
  },
  {
   "cell_type": "code",
   "execution_count": 1,
   "id": "29e2f004",
   "metadata": {},
   "outputs": [
    {
     "name": "stderr",
     "output_type": "stream",
     "text": [
      "[nltk_data] Downloading package punkt to\n",
      "[nltk_data]     C:\\Users\\tilak\\AppData\\Roaming\\nltk_data...\n",
      "[nltk_data]   Package punkt is already up-to-date!\n",
      "[nltk_data] Downloading package stopwords to\n",
      "[nltk_data]     C:\\Users\\tilak\\AppData\\Roaming\\nltk_data...\n",
      "[nltk_data]   Package stopwords is already up-to-date!\n"
     ]
    }
   ],
   "source": [
    "import csv\n",
    "import numpy as np\n",
    "from nltk.tokenize import word_tokenize\n",
    "from nltk.stem import PorterStemmer\n",
    "from nltk.probability import FreqDist\n",
    "import nltk\n",
    "nltk.download('punkt')\n",
    "from nltk.corpus import stopwords\n",
    "nltk.download('stopwords')\n",
    "from matplotlib import pyplot as plt\n",
    "from sklearn.model_selection import train_test_split\n",
    "from sklearn.linear_model import LogisticRegression\n",
    "from sklearn.naive_bayes import GaussianNB\n",
    "from sklearn.metrics import f1_score,confusion_matrix\n",
    "from sklearn.neural_network import MLPClassifier"
   ]
  },
  {
   "cell_type": "markdown",
   "id": "c4648689",
   "metadata": {},
   "source": [
    "### Reading file"
   ]
  },
  {
   "cell_type": "code",
   "execution_count": 2,
   "id": "a148a7cb",
   "metadata": {},
   "outputs": [
    {
     "name": "stdout",
     "output_type": "stream",
     "text": [
      "['v1', 'v2', '', '', '']\n",
      "[['ham', 'Go until jurong point, crazy.. Available only in bugis n great world la e buffet... Cine there got amore wat...', '', '', ''], ['ham', 'Ok lar... Joking wif u oni...', '', '', ''], ['spam', \"Free entry in 2 a wkly comp to win FA Cup final tkts 21st May 2005. Text FA to 87121 to receive entry question(std txt rate)T&C's apply 08452810075over18's\", '', '', ''], ['ham', 'U dun say so early hor... U c already then say...', '', '', ''], ['ham', \"Nah I don't think he goes to usf, he lives around here though\", '', '', ''], ['spam', \"FreeMsg Hey there darling it's been 3 week's now and no word back! I'd like some fun you up for it still? Tb ok! XxX std chgs to send, å£1.50 to rcv\", '', '', ''], ['ham', 'Even my brother is not like to speak with me. They treat me like aids patent.', '', '', ''], ['ham', \"As per your request 'Melle Melle (Oru Minnaminunginte Nurungu Vettam)' has been set as your callertune for all Callers. Press *9 to copy your friends Callertune\", '', '', ''], ['spam', 'WINNER!! As a valued network customer you have been selected to receivea å£900 prize reward! To claim call 09061701461. Claim code KL341. Valid 12 hours only.', '', '', ''], ['spam', 'Had your mobile 11 months or more? U R entitled to Update to the latest colour mobiles with camera for Free! Call The Mobile Update Co FREE on 08002986030', '', '', '']]\n"
     ]
    }
   ],
   "source": [
    "file = open(\"spam.csv\")\n",
    "csvreader = csv.reader(file)\n",
    "header = next(csvreader)\n",
    "print(header)\n",
    "rows = []\n",
    "for row in csvreader:\n",
    "    rows.append(row)\n",
    "# Printing first 10 examples.\n",
    "print(rows[: 10])\n",
    "file.close()"
   ]
  },
  {
   "cell_type": "markdown",
   "id": "9a5f9736",
   "metadata": {},
   "source": [
    "### Tokenization and stemming"
   ]
  },
  {
   "cell_type": "code",
   "execution_count": 3,
   "id": "89cd8bb7",
   "metadata": {},
   "outputs": [
    {
     "data": {
      "text/plain": [
       "[('i', 1956),\n",
       " ('u', 1133),\n",
       " ('call', 656),\n",
       " ('go', 451),\n",
       " ('get', 445),\n",
       " ('ur', 381),\n",
       " ('you', 340),\n",
       " ('gt', 318),\n",
       " ('lt', 316),\n",
       " ('come', 300),\n",
       " ('free', 278),\n",
       " ('know', 274),\n",
       " ('ok', 266),\n",
       " ('like', 257),\n",
       " ('love', 251),\n",
       " ('got', 249),\n",
       " ('time', 247),\n",
       " ('want', 244),\n",
       " ('good', 242),\n",
       " ('day', 242),\n",
       " ('text', 225),\n",
       " ('it', 206),\n",
       " ('send', 205),\n",
       " ('no', 192),\n",
       " ('need', 185),\n",
       " ('one', 184),\n",
       " ('txt', 182),\n",
       " ('how', 177),\n",
       " ('today', 173),\n",
       " ('see', 172)]"
      ]
     },
     "execution_count": 3,
     "metadata": {},
     "output_type": "execute_result"
    }
   ],
   "source": [
    "fdist = FreqDist()\n",
    "pst = PorterStemmer()\n",
    "stopwords = set(stopwords.words('english'))\n",
    "for i in range(len(rows)):\n",
    "    tokens = word_tokenize(rows[i][1])\n",
    "    for word in tokens:\n",
    "        word.lower()\n",
    "        if word not in stopwords and word.isalpha():\n",
    "            fdist[pst.stem(word)] += 1\n",
    "# Printing 30 most common words in the email body.\n",
    "fdist.most_common(30)"
   ]
  },
  {
   "cell_type": "markdown",
   "id": "54dac726",
   "metadata": {},
   "source": [
    "### Selecting the most common words"
   ]
  },
  {
   "cell_type": "code",
   "execution_count": 4,
   "id": "9cc043c7",
   "metadata": {},
   "outputs": [
    {
     "name": "stdout",
     "output_type": "stream",
     "text": [
      "['i', 'u', 'call', 'go', 'get', 'ur', 'you', 'gt', 'lt', 'come', 'free', 'know', 'ok', 'like', 'love', 'got', 'time', 'want', 'good', 'day', 'text', 'it', 'send', 'no', 'need', 'one', 'txt', 'how', 'today', 'see', 'take', 'think', 'home', 'lor', 'r', 'repli', 'sorri', 'stop', 'tell', 'still', 'back', 'do', 'mobil', 'n', 'make', 'but', 'if', 'we', 'hi', 'da', 'what', 'phone', 'new', 'say', 'dont', 'pleas', 'work', 'later', 'so', 'week', 'ask', 'hope', 'just', 'miss', 'pl', 'my', 'meet', 'the', 'your', 'night', 'messag', 'wait', 'happi', 'dear', 'well', 'that', 'great', 'claim', 'thing', 'tri', 'wat', 'k', 'give', 'much', 'and', 'c', 'oh', 'number', 'na', 'hey', 'friend', 'thank', 'have', 'way', 'msg', 'thi', 'a', 'now', 'prize', 'right', 'ye', 'feel', 'let', 'to', 'wan', 'even', 'alreadi', 'pick', 'are', 'tomorrow', 'said', 'yeah', 'can', 'min', 'realli', 'amp', 'leav', 'babe', 'care', 'is', 'im', 'co', 'would', 'e', 'win', 'last', 'morn', 'sleep', 'sure', 'servic', 'use', 'keep', 'cash', 'year', 'life', 'contact', 'lol', 'find', 'buy', 'tone', 'anyth', 'look', 'wish', 'everi', 'nokia', 'start', 'smile', 'also', 'sent', 'watch', 'someth', 'show', 'urgent', 't', 'finish', 'award', 'end', 'cant', 'b', 'not', 'could', 'place', 'us', 'custom', 'next', 'first', 'someon', 'guy', 'around', 'talk', 'tonight', 'late', 'went', 'he', 'then', 'ca', 'collect', 'word', 'gon', 'soon', 'money', 'chat', 'mani', 'per', 'did', 'plan', 'person', 'ya', 'live', 'alway', 'in', 'nice', 'she', 'me', 'minut', 'dun', 'check', 'when', 'gud', 'help', 'name', 'lot', 'told', 'for', 'special', 'mean', 'ìï', 'girl', 'hour', 'will', 'reach', 'peopl', 'haha', 'shop', 'guarante', 'yet', 'happen', 'heart', 'thk', 'may', 'fine', 'done', 'offer', 'v', 'play', 'class', 'holiday', 'where', 'line', 'fuck', 'receiv', 'lunch', 'thought', 'best', 'god', 'stuff', 'eat', 'car', 'x', 'man', 'job', 'draw', 'mayb', 'bit', 'never', 'ill', 'all', 'as', 'month', 'worri', 'yup', 'sm', 'account', 'hello', 'or', 'long', 'guess', 'better', 'dat', 'readi', 'problem', 'mind', 'enjoy', 'chanc', 'date', 'cool', 'drive', 'cs', 'world', 'latest', 'cost', 'pay', 'weekend', 'wonder', 'room', 'at', 'sir', 'boy', 'bring', 'quit', 'lar', 'half', 'yo', 'noth', 'hous', 'book', 'game', 'charg', 'anoth', 'luv', 'liao', 'big', 'onli', 'voucher', 'question', 'select', 'camera', 'real', 'birthday', 'landlin', 'stay', 'kiss', 'put', 'rememb', 'dinner', 'sweet', 'join', 'ju', 'shit', 'box', 'ever', 'pic', 'rate', 'speak', 'they', 'network', 'rington', 'wa', 'might', 'actual', 'point', 'final', 'appli', 'earli', 'on', 'di', 'hear', 'ah', 'am', 'chang', 'aight', 'there', 'babi', 'probabl', 'fun', 'wont', 'run', 'part', 'bed', 'anyway', 'po', 'video', 'two', 'orang', 'den', 'princess', 'hurt', 'forgot', 'whi', 'easi', 'thanx', 'wake', 'shall', 'dunno', 'sat', 'offic', 'bad', 'code', 'left', 'answer', 'littl', 'dream', 'leh', 'face', 'didnt', 'dad', 'enough', 'pain', 'afternoon', 'movi', 'school', 'tv', 'walk', 'made', 'detail', 'mate', 'pound', 'with', 'frnd', 'mail', 'without', 'tmr', 'sound', 'lose', 'everyth', 'read', 'post', 'bore', 'gift', 'await', 'wif', 'though', 'bu', 'decid', 'sinc', 'pa', 'came', 'test', 'must', 'sexi', 'xma', 'hav', 'town', 'entri', 'goe', 'xxx', 'set', 'credit', 'uk', 'lesson', 'close', 'abt', 'wk', 'okay', 'price', 'abl', 'import', 'true', 'up', 'updat', 'from', 'mob', 'juz', 'enter', 'order', 'bath', 'decim', 'plz', 'wot', 'away', 'plu', 'wife', 'had', 'colour', 'till', 'wo', 'saw', 'yesterday', 'hair', 'won', 'havent', 'els', 'top', 'bt', 'smoke', 'music', 'weekli', 'dude', 'poli', 'drink', 'beauti', 'attempt', 'de', 'drop', 'valid', 'invit', 'doubl', 'trip', 'food', 'haf', 'hand', 'til', 'oso', 'onlin', 'lei', 'search', 'ard', 'alright', 'deliveri', 'wen', 'busi', 'yr', 'coz', 'open', 'head', 'of', 'ring', 'hot', 'either', 'sch', 'famili', 'goin', 'mom', 'who', 'bonu', 'caus', 'address', 'inform', 'player', 'complet', 'stori', 'nite', 'hold', 'wid', 'full', 'tot', 'sae', 'togeth', 'sad', 'brother']\n"
     ]
    }
   ],
   "source": [
    "most_common = []\n",
    "for (i,j) in fdist.most_common(500):\n",
    "    most_common.append(i)\n",
    "print(most_common)"
   ]
  },
  {
   "cell_type": "markdown",
   "id": "d6e9b3c3",
   "metadata": {},
   "source": [
    "### features scaling"
   ]
  },
  {
   "cell_type": "code",
   "execution_count": 5,
   "id": "5df4677b",
   "metadata": {},
   "outputs": [],
   "source": [
    "def scaling(st):\n",
    "    tokens = word_tokenize(st)\n",
    "    stemmed = []\n",
    "    for token in tokens:\n",
    "        stemmed.append(pst.stem(token.lower()))\n",
    "    return stemmed"
   ]
  },
  {
   "cell_type": "code",
   "execution_count": 6,
   "id": "a098542f",
   "metadata": {},
   "outputs": [
    {
     "name": "stdout",
     "output_type": "stream",
     "text": [
      "[['go', 'until', 'jurong', 'point', ',', 'crazi', '..', 'avail', 'onli', 'in', 'bugi', 'n', 'great', 'world', 'la', 'e', 'buffet', '...', 'cine', 'there', 'got', 'amor', 'wat', '...'], ['ok', 'lar', '...', 'joke', 'wif', 'u', 'oni', '...'], ['free', 'entri', 'in', '2', 'a', 'wkli', 'comp', 'to', 'win', 'fa', 'cup', 'final', 'tkt', '21st', 'may', '2005', '.', 'text', 'fa', 'to', '87121', 'to', 'receiv', 'entri', 'question', '(', 'std', 'txt', 'rate', ')', 't', '&', 'c', \"'s\", 'appli', '08452810075over18', \"'s\"], ['u', 'dun', 'say', 'so', 'earli', 'hor', '...', 'u', 'c', 'alreadi', 'then', 'say', '...'], ['nah', 'i', 'do', \"n't\", 'think', 'he', 'goe', 'to', 'usf', ',', 'he', 'live', 'around', 'here', 'though'], ['freemsg', 'hey', 'there', 'darl', 'it', \"'s\", 'been', '3', 'week', \"'s\", 'now', 'and', 'no', 'word', 'back', '!', 'i', \"'d\", 'like', 'some', 'fun', 'you', 'up', 'for', 'it', 'still', '?', 'tb', 'ok', '!', 'xxx', 'std', 'chg', 'to', 'send', ',', 'å£1.50', 'to', 'rcv'], ['even', 'my', 'brother', 'is', 'not', 'like', 'to', 'speak', 'with', 'me', '.', 'they', 'treat', 'me', 'like', 'aid', 'patent', '.'], ['as', 'per', 'your', 'request', \"'mell\", 'mell', '(', 'oru', 'minnaminungint', 'nurungu', 'vettam', ')', \"'\", 'ha', 'been', 'set', 'as', 'your', 'callertun', 'for', 'all', 'caller', '.', 'press', '*', '9', 'to', 'copi', 'your', 'friend', 'callertun'], ['winner', '!', '!', 'as', 'a', 'valu', 'network', 'custom', 'you', 'have', 'been', 'select', 'to', 'receivea', 'å£900', 'prize', 'reward', '!', 'to', 'claim', 'call', '09061701461', '.', 'claim', 'code', 'kl341', '.', 'valid', '12', 'hour', 'onli', '.'], ['had', 'your', 'mobil', '11', 'month', 'or', 'more', '?', 'u', 'r', 'entitl', 'to', 'updat', 'to', 'the', 'latest', 'colour', 'mobil', 'with', 'camera', 'for', 'free', '!', 'call', 'the', 'mobil', 'updat', 'co', 'free', 'on', '08002986030']]\n"
     ]
    }
   ],
   "source": [
    "temprow = []\n",
    "for i in range(len(rows)):\n",
    "    temprow.append(scaling(rows[i][1]))\n",
    "# Printing first 10 examples tokenized.\n",
    "print(temprow[: 10])"
   ]
  },
  {
   "cell_type": "markdown",
   "id": "9a311a57",
   "metadata": {},
   "source": [
    "### Getting features"
   ]
  },
  {
   "cell_type": "code",
   "execution_count": 7,
   "id": "ec9f4148",
   "metadata": {},
   "outputs": [],
   "source": [
    "def getFeatures(arr , most_common):\n",
    "    fe = []\n",
    "    for word in most_common:\n",
    "        if word in arr:\n",
    "            fe.append(1)\n",
    "        else:\n",
    "            fe.append(0)\n",
    "    return fe"
   ]
  },
  {
   "cell_type": "code",
   "execution_count": 8,
   "id": "2f7cb46b",
   "metadata": {},
   "outputs": [
    {
     "name": "stdout",
     "output_type": "stream",
     "text": [
      "[[0, 0, 0, 1, 0, 0, 0, 0, 0, 0, 0, 0, 0, 0, 0, 1, 0, 0, 0, 0, 0, 0, 0, 0, 0, 0, 0, 0, 0, 0, 0, 0, 0, 0, 0, 0, 0, 0, 0, 0, 0, 0, 0, 1, 0, 0, 0, 0, 0, 0, 0, 0, 0, 0, 0, 0, 0, 0, 0, 0, 0, 0, 0, 0, 0, 0, 0, 0, 0, 0, 0, 0, 0, 0, 0, 0, 1, 0, 0, 0, 1, 0, 0, 0, 0, 0, 0, 0, 0, 0, 0, 0, 0, 0, 0, 0, 0, 0, 0, 0, 0, 0, 0, 0, 0, 0, 0, 0, 0, 0, 0, 0, 0, 0, 0, 0, 0, 0, 0, 0, 0, 0, 0, 1, 0, 0, 0, 0, 0, 0, 0, 0, 0, 0, 0, 0, 0, 0, 0, 0, 0, 0, 0, 0, 0, 0, 0, 0, 0, 0, 0, 0, 0, 0, 0, 0, 0, 0, 0, 0, 0, 0, 0, 0, 0, 0, 0, 0, 0, 0, 0, 0, 0, 0, 0, 0, 0, 0, 0, 0, 0, 0, 0, 0, 0, 0, 0, 0, 0, 0, 1, 0, 0, 0, 0, 0, 0, 0, 0, 0, 0, 0, 0, 0, 0, 0, 0, 0, 0, 0, 0, 0, 0, 0, 0, 0, 0, 0, 0, 0, 0, 0, 0, 0, 0, 0, 0, 0, 0, 0, 0, 0, 0, 0, 0, 0, 0, 0, 0, 0, 0, 0, 0, 0, 0, 0, 0, 0, 0, 0, 0, 0, 0, 0, 0, 0, 0, 0, 0, 0, 0, 0, 0, 0, 0, 0, 0, 0, 1, 0, 0, 0, 0, 0, 0, 0, 0, 0, 0, 0, 0, 0, 0, 0, 0, 0, 0, 0, 0, 0, 0, 0, 1, 0, 0, 0, 0, 0, 0, 0, 0, 0, 0, 0, 0, 0, 0, 0, 0, 0, 0, 0, 0, 0, 0, 0, 0, 0, 0, 0, 1, 0, 0, 0, 0, 0, 0, 0, 0, 0, 0, 1, 0, 0, 0, 0, 0, 0, 0, 0, 0, 0, 0, 0, 0, 0, 0, 0, 0, 0, 0, 0, 0, 0, 0, 0, 0, 0, 0, 0, 0, 0, 0, 0, 0, 0, 0, 0, 0, 0, 0, 0, 0, 0, 0, 0, 0, 0, 0, 0, 0, 0, 0, 0, 0, 0, 0, 0, 0, 0, 0, 0, 0, 0, 0, 0, 0, 0, 0, 0, 0, 0, 0, 0, 0, 0, 0, 0, 0, 0, 0, 0, 0, 0, 0, 0, 0, 0, 0, 0, 0, 0, 0, 0, 0, 0, 0, 0, 0, 0, 0, 0, 0, 0, 0, 0, 0, 0, 0, 0, 0, 0, 0, 0, 0, 0, 0, 0, 0, 0, 0, 0, 0, 0, 0, 0, 0, 0, 0, 0, 0, 0, 0, 0, 0, 0, 0, 0, 0, 0, 0, 0, 0, 0, 0, 0, 0, 0, 0, 0, 0, 0, 0, 0, 0, 0, 0, 0, 0, 0, 0, 0, 0, 0, 0, 0, 0, 0, 0, 0], [0, 1, 0, 0, 0, 0, 0, 0, 0, 0, 0, 0, 1, 0, 0, 0, 0, 0, 0, 0, 0, 0, 0, 0, 0, 0, 0, 0, 0, 0, 0, 0, 0, 0, 0, 0, 0, 0, 0, 0, 0, 0, 0, 0, 0, 0, 0, 0, 0, 0, 0, 0, 0, 0, 0, 0, 0, 0, 0, 0, 0, 0, 0, 0, 0, 0, 0, 0, 0, 0, 0, 0, 0, 0, 0, 0, 0, 0, 0, 0, 0, 0, 0, 0, 0, 0, 0, 0, 0, 0, 0, 0, 0, 0, 0, 0, 0, 0, 0, 0, 0, 0, 0, 0, 0, 0, 0, 0, 0, 0, 0, 0, 0, 0, 0, 0, 0, 0, 0, 0, 0, 0, 0, 0, 0, 0, 0, 0, 0, 0, 0, 0, 0, 0, 0, 0, 0, 0, 0, 0, 0, 0, 0, 0, 0, 0, 0, 0, 0, 0, 0, 0, 0, 0, 0, 0, 0, 0, 0, 0, 0, 0, 0, 0, 0, 0, 0, 0, 0, 0, 0, 0, 0, 0, 0, 0, 0, 0, 0, 0, 0, 0, 0, 0, 0, 0, 0, 0, 0, 0, 0, 0, 0, 0, 0, 0, 0, 0, 0, 0, 0, 0, 0, 0, 0, 0, 0, 0, 0, 0, 0, 0, 0, 0, 0, 0, 0, 0, 0, 0, 0, 0, 0, 0, 0, 0, 0, 0, 0, 0, 0, 0, 0, 0, 0, 0, 0, 0, 0, 0, 0, 0, 0, 0, 0, 0, 0, 0, 0, 0, 0, 0, 0, 0, 0, 0, 0, 0, 0, 0, 0, 0, 0, 0, 0, 0, 0, 0, 0, 0, 0, 0, 0, 0, 0, 0, 0, 0, 0, 0, 1, 0, 0, 0, 0, 0, 0, 0, 0, 0, 0, 0, 0, 0, 0, 0, 0, 0, 0, 0, 0, 0, 0, 0, 0, 0, 0, 0, 0, 0, 0, 0, 0, 0, 0, 0, 0, 0, 0, 0, 0, 0, 0, 0, 0, 0, 0, 0, 0, 0, 0, 0, 0, 0, 0, 0, 0, 0, 0, 0, 0, 0, 0, 0, 0, 0, 0, 0, 0, 0, 0, 0, 0, 0, 0, 0, 0, 0, 0, 0, 0, 0, 0, 0, 0, 0, 0, 0, 0, 0, 0, 0, 0, 0, 0, 0, 0, 0, 0, 0, 0, 0, 0, 0, 0, 0, 0, 0, 0, 0, 1, 0, 0, 0, 0, 0, 0, 0, 0, 0, 0, 0, 0, 0, 0, 0, 0, 0, 0, 0, 0, 0, 0, 0, 0, 0, 0, 0, 0, 0, 0, 0, 0, 0, 0, 0, 0, 0, 0, 0, 0, 0, 0, 0, 0, 0, 0, 0, 0, 0, 0, 0, 0, 0, 0, 0, 0, 0, 0, 0, 0, 0, 0, 0, 0, 0, 0, 0, 0, 0, 0, 0, 0, 0, 0, 0, 0, 0, 0, 0, 0, 0, 0, 0, 0, 0, 0, 0, 0, 0, 0, 0, 0, 0, 0, 0, 0, 0, 0, 0, 0, 0, 0, 0, 0, 0, 0, 0, 0, 0], [0, 0, 0, 0, 0, 0, 0, 0, 0, 0, 1, 0, 0, 0, 0, 0, 0, 0, 0, 0, 1, 0, 0, 0, 0, 0, 1, 0, 0, 0, 0, 0, 0, 0, 0, 0, 0, 0, 0, 0, 0, 0, 0, 0, 0, 0, 0, 0, 0, 0, 0, 0, 0, 0, 0, 0, 0, 0, 0, 0, 0, 0, 0, 0, 0, 0, 0, 0, 0, 0, 0, 0, 0, 0, 0, 0, 0, 0, 0, 0, 0, 0, 0, 0, 0, 1, 0, 0, 0, 0, 0, 0, 0, 0, 0, 0, 1, 0, 0, 0, 0, 0, 0, 1, 0, 0, 0, 0, 0, 0, 0, 0, 0, 0, 0, 0, 0, 0, 0, 0, 0, 0, 0, 0, 1, 0, 0, 0, 0, 0, 0, 0, 0, 0, 0, 0, 0, 0, 0, 0, 0, 0, 0, 0, 0, 0, 0, 0, 0, 0, 0, 0, 0, 1, 0, 0, 0, 0, 0, 0, 0, 0, 0, 0, 0, 0, 0, 0, 0, 0, 0, 0, 0, 0, 0, 0, 0, 0, 0, 0, 0, 0, 0, 0, 0, 0, 0, 0, 0, 0, 1, 0, 0, 0, 0, 0, 0, 0, 0, 0, 0, 0, 0, 0, 0, 0, 0, 0, 0, 0, 0, 0, 0, 0, 0, 0, 0, 0, 0, 1, 0, 0, 0, 0, 0, 0, 0, 0, 0, 0, 1, 0, 0, 0, 0, 0, 0, 0, 0, 0, 0, 0, 0, 0, 0, 0, 0, 0, 0, 0, 0, 0, 0, 0, 0, 0, 0, 0, 0, 0, 0, 0, 0, 0, 0, 0, 0, 0, 0, 0, 0, 0, 0, 0, 0, 0, 0, 0, 0, 0, 0, 0, 0, 0, 0, 0, 0, 0, 0, 0, 0, 0, 0, 0, 1, 0, 0, 0, 0, 0, 0, 0, 0, 0, 0, 0, 0, 0, 0, 0, 0, 0, 1, 0, 0, 0, 0, 0, 0, 0, 0, 1, 1, 0, 0, 0, 0, 0, 0, 0, 0, 0, 0, 0, 0, 0, 0, 0, 0, 0, 0, 0, 0, 0, 0, 0, 0, 0, 0, 0, 0, 0, 0, 0, 0, 0, 0, 0, 0, 0, 0, 0, 0, 0, 0, 0, 0, 0, 0, 0, 0, 0, 0, 0, 0, 0, 0, 0, 0, 0, 0, 0, 0, 0, 0, 0, 0, 0, 0, 0, 0, 0, 0, 0, 0, 0, 0, 0, 0, 0, 0, 0, 0, 1, 0, 0, 0, 0, 0, 0, 0, 0, 0, 0, 0, 0, 0, 0, 0, 0, 0, 0, 0, 0, 0, 0, 0, 0, 0, 0, 0, 0, 0, 0, 0, 0, 0, 0, 0, 0, 0, 0, 0, 0, 0, 0, 0, 0, 0, 0, 0, 0, 0, 0, 0, 0, 0, 0, 0, 0, 0, 0, 0, 0, 0, 0, 0, 0, 0, 0, 0, 0, 0, 0, 0, 0, 0, 0, 0, 0, 0, 0, 0, 0, 0, 0, 0, 0, 0, 0, 0, 0, 0, 0, 0, 0, 0, 0, 0, 0], [0, 1, 0, 0, 0, 0, 0, 0, 0, 0, 0, 0, 0, 0, 0, 0, 0, 0, 0, 0, 0, 0, 0, 0, 0, 0, 0, 0, 0, 0, 0, 0, 0, 0, 0, 0, 0, 0, 0, 0, 0, 0, 0, 0, 0, 0, 0, 0, 0, 0, 0, 0, 0, 1, 0, 0, 0, 0, 1, 0, 0, 0, 0, 0, 0, 0, 0, 0, 0, 0, 0, 0, 0, 0, 0, 0, 0, 0, 0, 0, 0, 0, 0, 0, 0, 1, 0, 0, 0, 0, 0, 0, 0, 0, 0, 0, 0, 0, 0, 0, 0, 0, 0, 0, 0, 0, 1, 0, 0, 0, 0, 0, 0, 0, 0, 0, 0, 0, 0, 0, 0, 0, 0, 0, 0, 0, 0, 0, 0, 0, 0, 0, 0, 0, 0, 0, 0, 0, 0, 0, 0, 0, 0, 0, 0, 0, 0, 0, 0, 0, 0, 0, 0, 0, 0, 0, 0, 0, 0, 0, 0, 0, 0, 0, 0, 0, 0, 0, 0, 0, 0, 0, 0, 0, 1, 0, 0, 0, 0, 0, 0, 0, 0, 0, 0, 0, 0, 0, 0, 0, 0, 0, 0, 0, 0, 1, 0, 0, 0, 0, 0, 0, 0, 0, 0, 0, 0, 0, 0, 0, 0, 0, 0, 0, 0, 0, 0, 0, 0, 0, 0, 0, 0, 0, 0, 0, 0, 0, 0, 0, 0, 0, 0, 0, 0, 0, 0, 0, 0, 0, 0, 0, 0, 0, 0, 0, 0, 0, 0, 0, 0, 0, 0, 0, 0, 0, 0, 0, 0, 0, 0, 0, 0, 0, 0, 0, 0, 0, 0, 0, 0, 0, 0, 0, 0, 0, 0, 0, 0, 0, 0, 0, 0, 0, 0, 0, 0, 0, 0, 0, 0, 0, 0, 0, 0, 0, 0, 0, 0, 0, 0, 0, 0, 0, 0, 0, 0, 0, 0, 0, 0, 0, 0, 0, 0, 0, 0, 0, 0, 0, 0, 0, 0, 1, 0, 0, 0, 0, 0, 0, 0, 0, 0, 0, 0, 0, 0, 0, 0, 0, 0, 0, 0, 0, 0, 0, 0, 0, 0, 0, 0, 0, 0, 0, 0, 0, 0, 0, 0, 0, 0, 0, 0, 0, 0, 0, 0, 0, 0, 0, 0, 0, 0, 0, 0, 0, 0, 0, 0, 0, 0, 0, 0, 0, 0, 0, 0, 0, 0, 0, 0, 0, 0, 0, 0, 0, 0, 0, 0, 0, 0, 0, 0, 0, 0, 0, 0, 0, 0, 0, 0, 0, 0, 0, 0, 0, 0, 0, 0, 0, 0, 0, 0, 0, 0, 0, 0, 0, 0, 0, 0, 0, 0, 0, 0, 0, 0, 0, 0, 0, 0, 0, 0, 0, 0, 0, 0, 0, 0, 0, 0, 0, 0, 0, 0, 0, 0, 0, 0, 0, 0, 0, 0, 0, 0, 0, 0, 0, 0, 0, 0, 0, 0, 0, 0, 0, 0, 0, 0, 0, 0, 0, 0, 0, 0, 0, 0, 0, 0, 0, 0, 0, 0, 0, 0, 0, 0, 0, 0, 0], [1, 0, 0, 0, 0, 0, 0, 0, 0, 0, 0, 0, 0, 0, 0, 0, 0, 0, 0, 0, 0, 0, 0, 0, 0, 0, 0, 0, 0, 0, 0, 1, 0, 0, 0, 0, 0, 0, 0, 0, 0, 1, 0, 0, 0, 0, 0, 0, 0, 0, 0, 0, 0, 0, 0, 0, 0, 0, 0, 0, 0, 0, 0, 0, 0, 0, 0, 0, 0, 0, 0, 0, 0, 0, 0, 0, 0, 0, 0, 0, 0, 0, 0, 0, 0, 0, 0, 0, 0, 0, 0, 0, 0, 0, 0, 0, 0, 0, 0, 0, 0, 0, 0, 1, 0, 0, 0, 0, 0, 0, 0, 0, 0, 0, 0, 0, 0, 0, 0, 0, 0, 0, 0, 0, 0, 0, 0, 0, 0, 0, 0, 0, 0, 0, 0, 0, 0, 0, 0, 0, 0, 0, 0, 0, 0, 0, 0, 0, 0, 0, 0, 0, 0, 0, 0, 0, 0, 0, 0, 0, 0, 0, 0, 0, 0, 0, 0, 0, 1, 0, 0, 0, 0, 1, 0, 0, 0, 0, 0, 0, 0, 0, 0, 0, 0, 0, 0, 0, 1, 0, 0, 0, 0, 0, 0, 0, 0, 0, 0, 0, 0, 0, 0, 0, 0, 0, 0, 0, 0, 0, 0, 0, 0, 0, 0, 0, 0, 0, 0, 0, 0, 0, 0, 0, 0, 0, 0, 0, 0, 0, 0, 0, 0, 0, 0, 0, 0, 0, 0, 0, 0, 0, 0, 0, 0, 0, 0, 0, 0, 0, 0, 0, 0, 0, 0, 0, 0, 0, 0, 0, 0, 0, 0, 0, 0, 0, 0, 0, 0, 0, 0, 0, 0, 0, 0, 0, 0, 0, 0, 0, 0, 0, 0, 0, 0, 0, 0, 0, 0, 0, 0, 0, 0, 0, 0, 0, 0, 0, 0, 0, 0, 0, 0, 0, 0, 0, 0, 0, 0, 0, 0, 0, 0, 0, 0, 0, 0, 0, 0, 0, 0, 0, 0, 0, 0, 0, 0, 0, 0, 0, 0, 0, 0, 0, 0, 0, 0, 0, 0, 0, 0, 0, 0, 0, 0, 0, 0, 0, 0, 0, 0, 0, 0, 0, 0, 0, 0, 0, 0, 0, 0, 0, 0, 0, 0, 0, 0, 0, 0, 0, 0, 0, 0, 0, 0, 0, 0, 0, 0, 0, 0, 0, 0, 0, 0, 0, 0, 0, 0, 0, 0, 1, 0, 0, 0, 0, 0, 0, 0, 0, 0, 0, 0, 0, 1, 0, 0, 0, 0, 0, 0, 0, 0, 0, 0, 0, 0, 0, 0, 0, 0, 0, 0, 0, 0, 0, 0, 0, 0, 0, 0, 0, 0, 0, 0, 0, 0, 0, 0, 0, 0, 0, 0, 0, 0, 0, 0, 0, 0, 0, 0, 0, 0, 0, 0, 0, 0, 0, 0, 0, 0, 0, 0, 0, 0, 0, 0, 0, 0, 0, 0, 0, 0, 0, 0, 0, 0, 0, 0, 0, 0, 0, 0, 0, 0, 0, 0, 0, 0, 0, 0, 0, 0, 0, 0, 0, 0, 0, 0, 0]]\n"
     ]
    }
   ],
   "source": [
    "X = []\n",
    "for i in range(len(temprow)):\n",
    "    a = getFeatures(temprow[i] , most_common)\n",
    "    X.append(a)\n",
    "#Printing feature vectors of first 5 examples.\n",
    "print(X[: 5])"
   ]
  },
  {
   "cell_type": "markdown",
   "id": "87763494",
   "metadata": {},
   "source": [
    "### Getting target"
   ]
  },
  {
   "cell_type": "code",
   "execution_count": 9,
   "id": "fb4c16ab",
   "metadata": {},
   "outputs": [
    {
     "name": "stdout",
     "output_type": "stream",
     "text": [
      "[0, 0, 1, 0, 0, 1, 0, 0, 1, 1]\n"
     ]
    }
   ],
   "source": [
    "y = []\n",
    "for i in range(len(rows)):\n",
    "    if rows[i][0] == 'ham':\n",
    "        y.append(0)\n",
    "    else:\n",
    "        y.append(1)\n",
    "# Printing first 10 target example.\n",
    "print(y[: 10])\n"
   ]
  },
  {
   "cell_type": "markdown",
   "id": "84fe6cdd",
   "metadata": {},
   "source": [
    "### Splitting dataset into train and test"
   ]
  },
  {
   "cell_type": "code",
   "execution_count": 10,
   "id": "89d2bcd9",
   "metadata": {},
   "outputs": [
    {
     "name": "stdout",
     "output_type": "stream",
     "text": [
      "(4457, 500)\n",
      "(1115, 500)\n",
      "(4457,)\n",
      "(1115,)\n"
     ]
    }
   ],
   "source": [
    "X = np.array(X)\n",
    "y = np.array(y)\n",
    "X_train , X_test , y_train, y_test = train_test_split(X,y,test_size = 0.2)\n",
    "print(X_train.shape)\n",
    "print(X_test.shape)\n",
    "print(y_train.shape)\n",
    "print(y_test.shape)"
   ]
  },
  {
   "cell_type": "markdown",
   "id": "c0d42451",
   "metadata": {},
   "source": [
    "### Model"
   ]
  },
  {
   "cell_type": "markdown",
   "id": "8cf04352",
   "metadata": {},
   "source": [
    "#### Logistic Regression"
   ]
  },
  {
   "cell_type": "code",
   "execution_count": 11,
   "id": "68faece0",
   "metadata": {},
   "outputs": [
    {
     "data": {
      "text/plain": [
       "LogisticRegression()"
      ]
     },
     "execution_count": 11,
     "metadata": {},
     "output_type": "execute_result"
    }
   ],
   "source": [
    "clf = LogisticRegression()\n",
    "clf.fit(X_train , y_train)\n"
   ]
  },
  {
   "cell_type": "markdown",
   "id": "e679f2ad",
   "metadata": {},
   "source": [
    "#### Naive Bayes"
   ]
  },
  {
   "cell_type": "code",
   "execution_count": 12,
   "id": "b9bf1530",
   "metadata": {},
   "outputs": [
    {
     "data": {
      "text/plain": [
       "GaussianNB()"
      ]
     },
     "execution_count": 12,
     "metadata": {},
     "output_type": "execute_result"
    }
   ],
   "source": [
    "gnb = GaussianNB()\n",
    "gnb.fit(X_train, y_train)"
   ]
  },
  {
   "cell_type": "markdown",
   "id": "097a194b",
   "metadata": {},
   "source": [
    "#### Neural Network"
   ]
  },
  {
   "cell_type": "code",
   "execution_count": 13,
   "id": "76b1871f",
   "metadata": {},
   "outputs": [
    {
     "data": {
      "text/plain": [
       "MLPClassifier(hidden_layer_sizes=(50, 50))"
      ]
     },
     "execution_count": 13,
     "metadata": {},
     "output_type": "execute_result"
    }
   ],
   "source": [
    "nn = MLPClassifier(solver = 'adam' , activation = 'relu' , hidden_layer_sizes = (50 , 50))\n",
    "nn.fit(X_train , y_train)"
   ]
  },
  {
   "cell_type": "markdown",
   "id": "39fff88e",
   "metadata": {},
   "source": [
    "### Prediction"
   ]
  },
  {
   "cell_type": "code",
   "execution_count": 14,
   "id": "02ed6d17",
   "metadata": {},
   "outputs": [
    {
     "name": "stdout",
     "output_type": "stream",
     "text": [
      "Predicted (Logistic regression):  [0 0 0 0 1 0 0 0 0 0 0 0 0 0 0 0 0 0 1 0 0 0 0 0 0 1 0 0 0 0 0 0 0 0 0 0 0\n",
      " 0 0 1 0 0 0 0 0 0 1 0 0 0]\n",
      "Predicted (Multilayer perceptron):  [0 0 0 0 1 0 0 0 0 0 0 0 0 0 0 0 0 0 1 0 0 0 0 0 0 1 0 0 0 0 0 0 0 0 0 0 0\n",
      " 0 0 1 0 0 0 0 0 0 1 0 0 0]\n",
      "Predicted (Naive Bayes):  [1 1 1 0 1 0 1 1 1 0 0 0 1 0 1 0 1 0 1 0 1 0 0 0 0 1 0 1 1 1 1 0 0 1 1 0 1\n",
      " 0 1 1 0 1 0 1 0 0 1 0 1 1]\n",
      "Real:  [0 0 0 0 1 0 0 0 0 0 0 0 0 0 0 0 0 0 1 0 0 0 0 0 0 1 0 0 0 0 0 0 0 0 0 0 0\n",
      " 0 0 1 0 0 0 0 0 0 1 0 0 0]\n"
     ]
    }
   ],
   "source": [
    "pred1 = clf.predict(X_test)\n",
    "pred2 = nn.predict(X_test)\n",
    "pred3 = gnb.predict(X_test)\n",
    "# Checking first 50 predictions.\n",
    "print(\"Predicted (Logistic regression): \" , pred1[: 50])\n",
    "print(\"Predicted (Multilayer perceptron): \" , pred2[: 50])\n",
    "print(\"Predicted (Naive Bayes): \" , pred3[: 50])\n",
    "print(\"Real: \" , y_test[: 50])"
   ]
  },
  {
   "cell_type": "markdown",
   "id": "21e8ed28",
   "metadata": {},
   "source": [
    "### Confusion matrix"
   ]
  },
  {
   "cell_type": "code",
   "execution_count": 15,
   "id": "f9445afb",
   "metadata": {},
   "outputs": [
    {
     "name": "stdout",
     "output_type": "stream",
     "text": [
      "Confusion matrix for: \n",
      "Logistic: \n",
      "[[960   3]\n",
      " [ 23 129]]\n",
      "MLP: \n",
      "[[958   5]\n",
      " [ 11 141]]\n",
      "Naive Bayes: \n",
      "[[598 365]\n",
      " [  7 145]]\n"
     ]
    }
   ],
   "source": [
    "print(\"Confusion matrix for: \")\n",
    "print(\"Logistic: \")\n",
    "print(confusion_matrix(y_test , pred1))\n",
    "print(\"MLP: \")\n",
    "print(confusion_matrix(y_test , pred2))\n",
    "print(\"Naive Bayes: \")\n",
    "print(confusion_matrix(y_test , pred3))"
   ]
  },
  {
   "cell_type": "markdown",
   "id": "cb42c03b",
   "metadata": {},
   "source": [
    "### F1 score"
   ]
  },
  {
   "cell_type": "code",
   "execution_count": 16,
   "id": "5e8f5b11",
   "metadata": {},
   "outputs": [
    {
     "name": "stdout",
     "output_type": "stream",
     "text": [
      "F1 scores of: \n",
      "Logistic:  0.9759803716969041\n",
      "MLP 0.985528045645734\n",
      "Naive Bayes 0.7184926152325913\n"
     ]
    }
   ],
   "source": [
    "print(\"F1 scores of: \")\n",
    "f1 = f1_score(y_test, pred1, average='weighted')\n",
    "f2 = f1_score(y_test, pred2, average='weighted')\n",
    "f3 = f1_score(y_test, pred3, average='weighted')\n",
    "print(\"Logistic: \" , f1)\n",
    "print(\"MLP\" , f2)\n",
    "print(\"Naive Bayes\" , f3)"
   ]
  },
  {
   "cell_type": "markdown",
   "id": "7a29872a",
   "metadata": {},
   "source": [
    "### Plotting f1"
   ]
  },
  {
   "cell_type": "code",
   "execution_count": 17,
   "id": "8ac6dbbf",
   "metadata": {},
   "outputs": [
    {
     "data": {
      "image/png": "[encoded data removed]",
      "text/plain": [
       "<Figure size 432x288 with 1 Axes>"
      ]
     },
     "metadata": {
      "needs_background": "light"
     },
     "output_type": "display_data"
    }
   ],
   "source": [
    "fig = plt.figure()\n",
    "ax = fig.add_axes([0,0,1,1])\n",
    "langs = ['Logistic', 'MLP', 'Naive']\n",
    "students = [f1 , f2 , f3]\n",
    "ax.bar(langs,students)\n",
    "plt.show()"
   ]
  },
  {
   "cell_type": "markdown",
   "id": "f98d0f8b",
   "metadata": {},
   "source": [
    "#### MultiLayer Perceptron selected "
   ]
  },
  {
   "cell_type": "markdown",
   "id": "04ed17fa",
   "metadata": {},
   "source": [
    "### Taking input"
   ]
  },
  {
   "cell_type": "code",
   "execution_count": 21,
   "id": "33ee0408",
   "metadata": {},
   "outputs": [
    {
     "name": "stdout",
     "output_type": "stream",
     "text": [
      "Enter your Email body: Order kijiye, special offer laye hai\n"
     ]
    }
   ],
   "source": [
    "st = input(\"Enter your Email body: \")"
   ]
  },
  {
   "cell_type": "markdown",
   "id": "e738e97b",
   "metadata": {},
   "source": [
    "### Data Preprocessing"
   ]
  },
  {
   "cell_type": "code",
   "execution_count": 22,
   "id": "010e0449",
   "metadata": {},
   "outputs": [
    {
     "name": "stdout",
     "output_type": "stream",
     "text": [
      "[0, 0, 0, 0, 0, 0, 0, 0, 0, 0, 0, 0, 0, 0, 0, 0, 0, 0, 0, 0, 0, 0, 0, 0, 0, 0, 0, 0, 0, 0, 0, 0, 0, 0, 0, 0, 0, 0, 0, 0, 0, 0, 0, 0, 0, 0, 0, 0, 0, 0, 0, 0, 0, 0, 0, 0, 0, 0, 0, 0, 0, 0, 0, 0, 0, 0, 0, 0, 0, 0, 0, 0, 0, 0, 0, 0, 0, 0, 0, 0, 0, 0, 0, 0, 0, 0, 0, 0, 0, 0, 0, 0, 0, 0, 0, 0, 0, 0, 0, 0, 0, 0, 0, 0, 0, 0, 0, 0, 0, 0, 0, 0, 0, 0, 0, 0, 0, 0, 0, 0, 0, 0, 0, 0, 0, 0, 0, 0, 0, 0, 0, 0, 0, 0, 0, 0, 0, 0, 0, 0, 0, 0, 0, 0, 0, 0, 0, 0, 0, 0, 0, 0, 0, 0, 0, 0, 0, 0, 0, 0, 0, 0, 0, 0, 0, 0, 0, 0, 0, 0, 0, 0, 0, 0, 0, 0, 0, 0, 0, 0, 0, 0, 0, 0, 0, 0, 0, 0, 0, 0, 0, 0, 0, 0, 0, 0, 0, 0, 0, 0, 0, 0, 0, 0, 1, 0, 0, 0, 0, 0, 0, 0, 0, 0, 0, 0, 0, 0, 0, 0, 0, 0, 1, 0, 0, 0, 0, 0, 0, 0, 0, 0, 0, 0, 0, 0, 0, 0, 0, 0, 0, 0, 0, 0, 0, 0, 0, 0, 0, 0, 0, 0, 0, 0, 0, 0, 0, 0, 0, 0, 0, 0, 0, 0, 0, 0, 0, 0, 0, 0, 0, 0, 0, 0, 0, 0, 0, 0, 0, 0, 0, 0, 0, 0, 0, 0, 0, 0, 0, 0, 0, 0, 0, 0, 0, 0, 0, 0, 0, 0, 0, 0, 0, 0, 0, 0, 0, 0, 0, 0, 0, 0, 0, 0, 0, 0, 0, 0, 0, 0, 0, 0, 0, 0, 0, 0, 0, 0, 0, 0, 0, 0, 0, 0, 0, 0, 0, 0, 0, 0, 0, 0, 0, 0, 0, 0, 0, 0, 0, 0, 0, 0, 0, 0, 0, 0, 0, 0, 0, 0, 0, 0, 0, 0, 0, 0, 0, 0, 0, 0, 0, 0, 0, 0, 0, 0, 0, 0, 0, 0, 0, 0, 0, 0, 0, 0, 0, 0, 0, 0, 0, 0, 0, 0, 0, 0, 0, 0, 0, 0, 0, 0, 0, 0, 0, 0, 0, 0, 0, 0, 0, 0, 0, 0, 0, 0, 0, 0, 0, 0, 0, 0, 0, 0, 1, 0, 0, 0, 0, 0, 0, 0, 0, 0, 0, 0, 0, 0, 0, 0, 0, 0, 0, 0, 0, 0, 0, 0, 0, 0, 0, 0, 0, 0, 0, 0, 0, 0, 0, 0, 0, 0, 0, 0, 0, 0, 0, 0, 0, 0, 0, 0, 0, 0, 0, 0, 0, 0, 0, 0, 0, 0, 0, 0, 0, 0, 0, 0, 0, 0, 0, 0, 0, 0, 0, 0, 0, 0, 0, 0]\n"
     ]
    }
   ],
   "source": [
    "stemmed_st = scaling(st)\n",
    "x_in = getFeatures(stemmed_st, most_common)\n",
    "print(x_in)\n"
   ]
  },
  {
   "cell_type": "markdown",
   "id": "12bad07b",
   "metadata": {},
   "source": [
    "### Ham or Spam"
   ]
  },
  {
   "cell_type": "code",
   "execution_count": 23,
   "id": "20e53529",
   "metadata": {},
   "outputs": [
    {
     "name": "stdout",
     "output_type": "stream",
     "text": [
      "ham\n"
     ]
    }
   ],
   "source": [
    "predicted = nn.predict([x_in])\n",
    "if predicted == 0:\n",
    "    print(\"ham\")\n",
    "else:\n",
    "    print(\"spam\")"
   ]
  },
  {
   "cell_type": "code",
   "execution_count": null,
   "id": "931cc36c",
   "metadata": {},
   "outputs": [],
   "source": []
  }
 ],
 "metadata": {
  "kernelspec": {
   "display_name": "Python 3 (ipykernel)",
   "language": "python",
   "name": "python3"
  },
  "language_info": {
   "codemirror_mode": {
    "name": "ipython",
    "version": 3
   },
   "file_extension": ".py",
   "mimetype": "text/x-python",
   "name": "python",
   "nbconvert_exporter": "python",
   "pygments_lexer": "ipython3",
   "version": "3.9.7"
  }
 },
 "nbformat": 4,
 "nbformat_minor": 5
}
